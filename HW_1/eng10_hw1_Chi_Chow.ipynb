{
 "cells": [
  {
   "cell_type": "markdown",
   "metadata": {
    "colab_type": "text",
    "id": "fv6zLc712mfT"
   },
   "source": [
    "# ENG 10: HW 1 (Derivatives)\n",
    "This homework will explore how to handle derivatives of functions by using Python.\n",
    "\n",
    "### Goals\n",
    "Learn how to take a derivative of a function and diplay an interative plot:\n",
    "- Understand what derivatives mean\n",
    "- Learn how to custimize a function\n",
    "- Learn how to create a general plot and an interactive plot with functions\n",
    "- Symbolic differentiation\n",
    "\n",
    "### Requirements\n",
    "- NumPy = for loading data and vectorized calculations\n",
    "- matplotlib = for plotting\n",
    "- SymPy = for symbolic mathematics\n",
    "- ipywidgets = for automatically creating user interface (UI) controls for exploring code and data interactively."
   ]
  },
  {
   "cell_type": "code",
   "execution_count": 2,
   "metadata": {
    "colab": {},
    "colab_type": "code",
    "id": "4tO0Jm3E2mfW"
   },
   "outputs": [],
   "source": [
    "# load the required packages\n",
    "import numpy as np               # for scientific computation\n",
    "import matplotlib.pyplot as plt  # for plotting\n",
    "import sympy as sp               # to perform symbolic differentiation\n",
    "\n",
    "from ipywidgets import interact, fixed, FloatSlider  # enable interactive plots\n",
    "\n",
    "# to display all the plots on the same page bellow the code cell\n",
    "%matplotlib inline"
   ]
  },
  {
   "cell_type": "markdown",
   "metadata": {
    "colab_type": "text",
    "id": "n3ncgGaD2mfb"
   },
   "source": [
    "<hr style=\"border: 0.5px solid#C4C4C4;\" />\n",
    "# 0. Exploring the derivative\n",
    "Let's start with a function such as: $f(x) = x^3 + 4x^2 + x - 6$. In the code cells below, we will try out:\n",
    "\n",
    "- Costomize a function\n",
    "- Take a derivative\n",
    "- Plot the function\n",
    "- Create Interactive plot of an estimate of a derivative\n",
    "\n",
    "To start, we'll define a function $f(x)$ (in code) that takes as input a number $x$ and returns the value of the function defined above."
   ]
  },
  {
   "cell_type": "code",
   "execution_count": 3,
   "metadata": {
    "colab": {},
    "colab_type": "code",
    "id": "QQZ8DEbi2mfd",
    "outputId": "cbb3ca46-aa19-49fb-ad12-3215ee4ead43"
   },
   "outputs": [
    {
     "data": {
      "text/plain": [
       "0"
      ]
     },
     "execution_count": 3,
     "metadata": {},
     "output_type": "execute_result"
    }
   ],
   "source": [
    "# define the function, which takes in a number and returns\n",
    "# the calculated value of: f(x) = x^3 + 4x^2 + x - 6\n",
    "\n",
    "def f(x):\n",
    "    return x**3+4*x**2+x-6\n",
    "\n",
    "# try using the function\n",
    "f(1)"
   ]
  },
  {
   "cell_type": "markdown",
   "metadata": {
    "colab_type": "text",
    "id": "yRhBXKyJ2mfk"
   },
   "source": [
    "So now we have a code function that outputs the value of the mathematical function we defined above. As a next step, let's define a code function for calculating the output of the derivative.\n",
    "\n",
    "**Question:** what is the derivative of $f(x) = x^3 + 4x^2 + x - 6$?\n",
    "\n",
    "Mathematically, what is $f'(x)$ or $\\frac{df}{dx}$=?\n",
    "\n",
    "**Answers:**\n",
    "\n",
    "???"
   ]
  },
  {
   "cell_type": "code",
   "execution_count": 4,
   "metadata": {
    "code_folding": [],
    "colab": {},
    "colab_type": "code",
    "id": "athaR8wD2mfl",
    "outputId": "98a77a88-926b-4b68-8043-57c100da0ef2"
   },
   "outputs": [
    {
     "data": {
      "text/plain": [
       "12"
      ]
     },
     "execution_count": 4,
     "metadata": {},
     "output_type": "execute_result"
    }
   ],
   "source": [
    "# define a code function for the derivative\n",
    "\n",
    "def fprime(x):\n",
    "    return 3*x**2+8*x+1\n",
    "\n",
    "# try using the function\n",
    "fprime(1)"
   ]
  },
  {
   "cell_type": "markdown",
   "metadata": {
    "colab_type": "text",
    "id": "MzsaiT6A2mfr"
   },
   "source": [
    "<hr style=\"border: 0.5px solid#C4C4C4;\" />\n",
    "# 1. Symbolic Differentiation (Mathematics)\n",
    "\n",
    "We can take a derivative by using symbolic differentiation from SymPy.\n",
    "A symbolic differentiation finds not the numerical derivative of a given function but the derivative equation of the function and produces it as an output.\n",
    "A symbolic differentiation is ideal if your problem is simple enough. The following code cell covers symbolic differentiation of the same function, $f(x) = x^3 + 4x^2 + x - 6$, with SymPy."
   ]
  },
  {
   "cell_type": "code",
   "execution_count": 6,
   "metadata": {
    "colab": {},
    "colab_type": "code",
    "id": "FQsHQ9gd2mfs"
   },
   "outputs": [
    {
     "name": "stdout",
     "output_type": "stream",
     "text": [
      "3*x**2 + 8*x + 1\n"
     ]
    }
   ],
   "source": [
    "# In SymPy you have to declare symbolic variables explicitly\n",
    "x = sp.Symbol('x')\n",
    "y = x**3 + 4*x**2 + x - 6\n",
    "\n",
    "# Compute the derivative of the function\n",
    "y_prime = y.diff(x)\n",
    "print(y_prime)"
   ]
  },
  {
   "cell_type": "markdown",
   "metadata": {
    "colab_type": "text",
    "id": "WF6QHkuN2mfw"
   },
   "source": [
    "In the next code cell let's take symbolic differentiation of the this function: $f(x) = cos(x) + log(x^4) + x^{0.5}$"
   ]
  },
  {
   "cell_type": "code",
   "execution_count": 8,
   "metadata": {
    "colab": {},
    "colab_type": "code",
    "id": "o_8WGiPO2mfx"
   },
   "outputs": [
    {
     "name": "stdout",
     "output_type": "stream",
     "text": [
      "0.5*x**(-0.5) - sin(x) + 4/x\n"
     ]
    }
   ],
   "source": [
    "# Let's take a derivative of another function\n",
    "x = sp.Symbol('x')\n",
    "y = sp.cos(x) + sp.log(x**4) + pow(x, 0.5)\n",
    "\n",
    "# Compute the derivative of the function\n",
    "y_prime = y.diff(x)\n",
    "print(y_prime)"
   ]
  },
  {
   "cell_type": "markdown",
   "metadata": {
    "colab_type": "text",
    "id": "7RSrDtMZ2mf1"
   },
   "source": [
    "In the following code cell, define whatever function you want and take symbolic differentiation of that function."
   ]
  },
  {
   "cell_type": "code",
   "execution_count": 11,
   "metadata": {
    "colab": {},
    "colab_type": "code",
    "id": "kN2TIFwI2mf2",
    "outputId": "951e6938-f86b-457e-8e36-b5ac4c0a88e1"
   },
   "outputs": [
    {
     "name": "stdout",
     "output_type": "stream",
     "text": [
      "-sin(x) + cos(x) + tan(x)**2 + 1\n"
     ]
    }
   ],
   "source": [
    "# # Define your function\n",
    "x = sp.Symbol('x')\n",
    "y = sp.sin(x) + sp.cos(x) + sp.tan(x)\n",
    "\n",
    "# Compute the derivative of your function\n",
    "y_prime = y.diff(x)\n",
    "\n",
    "print(y_prime)"
   ]
  },
  {
   "cell_type": "markdown",
   "metadata": {
    "colab_type": "text",
    "id": "mZ01aGzW2mf5"
   },
   "source": [
    "<hr style=\"border: 0.5px solid#C4C4C4;\" />\n",
    "# 2. Practice problems\n",
    "For each of the following functions:\n",
    "1. Plot the function\n",
    "2. Determine the intervals on which the function is increasing or decreasing\n",
    "3. Determine the local maximums and local minimums\n",
    "4. Differentiate the function\n",
    "5. Plot the derivative"
   ]
  },
  {
   "cell_type": "markdown",
   "metadata": {
    "colab_type": "text",
    "collapsed": true,
    "id": "s2lxR7ky2mf6"
   },
   "source": [
    "### 2.1) $f(x) = x^2$\n",
    "\n",
    "### 2.1 a) Plot the function"
   ]
  },
  {
   "cell_type": "code",
   "execution_count": 13,
   "metadata": {
    "colab": {},
    "colab_type": "code",
    "id": "JYngC_9V2mf7"
   },
   "outputs": [
    {
     "data": {
      "image/png": "[encoded data removed]",
      "text/plain": [
       "<Figure size 432x288 with 1 Axes>"
      ]
     },
     "metadata": {
      "needs_background": "light"
     },
     "output_type": "display_data"
    }
   ],
   "source": [
    "# select a range of values to try out for ``x`` by using linspace from numpy\n",
    "x = np.linspace(-10, 10, 100)\n",
    "\n",
    "# calculate the function value: f(x)\n",
    "y = x**2\n",
    "\n",
    "# plot the function\n",
    "plt.plot(x, y)\n",
    "plt.show()"
   ]
  },
  {
   "cell_type": "markdown",
   "metadata": {
    "colab_type": "text",
    "id": "6M4v6Mbj2mf-"
   },
   "source": [
    "### 2.1 b) On what interval is the function increasing and decreasing?\n",
    "Increasing: $(0, \\infty)$\n",
    "Decreasing: $(-\\infty, 0)$\n",
    "\n",
    "**Tip:** Describe it behavior with domains. Double-click this markdown cell to see how to express a domain in html format.\n",
    "\n",
    "$[-10, 0]$\n",
    "\n",
    "$[6, \\infty)$\n",
    "\n",
    "$(-\\infty, 10]$"
   ]
  },
  {
   "cell_type": "markdown",
   "metadata": {
    "colab_type": "text",
    "id": "meObLWQF2mf_"
   },
   "source": [
    "### 2.1 c) Where are the local max or min?\n",
    "Local Min: $(0, 0)$"
   ]
  },
  {
   "cell_type": "markdown",
   "metadata": {
    "colab_type": "text",
    "id": "ylQzkvCi2mgA"
   },
   "source": [
    "### 2.1 d) What is the derivative of f(x)?\n",
    "f'(x) = 2*x"
   ]
  },
  {
   "cell_type": "markdown",
   "metadata": {
    "colab_type": "text",
    "id": "U_zF-muE2mgB"
   },
   "source": [
    "### 2.1 e) Plot the function and its derivative"
   ]
  },
  {
   "cell_type": "code",
   "execution_count": 0,
   "metadata": {
    "colab": {},
    "colab_type": "code",
    "id": "mpQikuoA2mgC"
   },
   "outputs": [],
   "source": [
    "# select a range of values to try out for ``x`` by using linspace from numpy\n",
    "x = np.linspace(-10, 10, 100)\n",
    "\n",
    "# calculate the function value: f(x)\n",
    "y = x**2\n",
    "\n",
    "# calculate the derivative\n",
    "y_prime = 2*x\n",
    "\n",
    "# plot the function\n",
    "plt.plot(x, y, label=\"f(x)\")\n",
    "\n",
    "# plot the derivative\n",
    "plt.plot(x, y_prime, linestyle=\"--\", label=\"f'(x)'\")\n",
    "\n",
    "# add a legend\n",
    "plt.legend()\n",
    "\n",
    "plt.show()"
   ]
  },
  {
   "cell_type": "markdown",
   "metadata": {
    "colab_type": "text",
    "collapsed": true,
    "id": "ds2StFNe2mgE"
   },
   "source": [
    "<hr>\n",
    "### 2.2) $f(x) = \\frac{x^5}{2}+3x^3-10x+3$\n",
    "This equation may seem \"trickier\" than the first one, but you just need to follow the same procedure.\n",
    "\n",
    "\n",
    "### 2.2 a) Plot the function"
   ]
  },
  {
   "cell_type": "code",
   "execution_count": 15,
   "metadata": {
    "colab": {},
    "colab_type": "code",
    "id": "PT79O76Z2mgF"
   },
   "outputs": [
    {
     "data": {
      "image/png": "[encoded data removed]",
      "text/plain": [
       "<Figure size 432x288 with 1 Axes>"
      ]
     },
     "metadata": {
      "needs_background": "light"
     },
     "output_type": "display_data"
    }
   ],
   "source": [
    "# select a range of values to try out for ``x`` by using linspace from numpy\n",
    "x = np.linspace(-10, 10, 100)\n",
    "\n",
    "# calculate the function value: f(x)\n",
    "y = 0.5 * x ** 5 + 3 * x ** 3 - 10 * x + 3\n",
    "\n",
    "# plot the function\n",
    "plt.plot(x, y)\n",
    "plt.show()"
   ]
  },
  {
   "cell_type": "markdown",
   "metadata": {
    "colab_type": "text",
    "id": "DZCc0RXJ2mgI"
   },
   "source": [
    "### 2.2 b) On what interval is the function increasing and decreasing?\n",
    "Increasing: $(-\\infty, -0.944]$ and $[0.944, \\infty)$\n",
    "Decreasing: $[-0.944, 0.944]$\n",
    "\n",
    "**Tip:** Describe it behavior with domains. Double-click this markdown cell to see how to express a domain in html format.\n",
    "\n",
    "$[-10, 0]$\n",
    "\n",
    "$[6, \\infty)$\n",
    "\n",
    "$(-\\infty, 10]$"
   ]
  },
  {
   "cell_type": "markdown",
   "metadata": {
    "colab_type": "text",
    "id": "-wNi1ANA2mgJ"
   },
   "source": [
    "### 2.2 c) Where are the local max or min?\n",
    "Local Max: $(-0.944, 9.541)$\n",
    "Local Min: $(0.944, -3.541)$"
   ]
  },
  {
   "cell_type": "markdown",
   "metadata": {
    "colab_type": "text",
    "id": "uvC54eQ-2mgK"
   },
   "source": [
    "### 2.2 d) What is the derivative of f(x)?\n",
    "f'(x) = 2.5*x**4 + 9*x**2 - 10"
   ]
  },
  {
   "cell_type": "markdown",
   "metadata": {
    "colab_type": "text",
    "id": "lObj74Vk2mgL"
   },
   "source": [
    "### 2.2 e) Plot the function and its derivative"
   ]
  },
  {
   "cell_type": "code",
   "execution_count": 17,
   "metadata": {
    "colab": {},
    "colab_type": "code",
    "id": "4sSI-Zmw2mgL"
   },
   "outputs": [
    {
     "data": {
      "image/png": "[encoded data removed]",
      "text/plain": [
       "<Figure size 432x288 with 1 Axes>"
      ]
     },
     "metadata": {
      "needs_background": "light"
     },
     "output_type": "display_data"
    }
   ],
   "source": [
    "# select a range of values to try out for ``x``by using linspace from numpy\n",
    "x = np.linspace(-10, 10, 100)\n",
    "\n",
    "# calculate the function value: f(x)\n",
    "y = 0.5 * x ** 5 + 3 * x ** 3 - 10 * x + 3\n",
    "\n",
    "# calculate the derivative\n",
    "y_prime = 2.5*x**4 + 9*x**2 - 10\n",
    "\n",
    "# plot the function\n",
    "plt.plot(x, y, label=\"f(x)\")\n",
    "\n",
    "# plot the derivative\n",
    "plt.plot(x, y_prime, linestyle='--', label=\"f'(x)\")\n",
    "\n",
    "# add a legend\n",
    "plt.legend()\n",
    "\n",
    "plt.show()"
   ]
  },
  {
   "cell_type": "markdown",
   "metadata": {
    "colab_type": "text",
    "id": "KwQ9KwoR2mgO"
   },
   "source": [
    "<hr style=\"border: 0.5px solid#C4C4C4;\" />\n",
    "# 3. Ball toss\n",
    "The height of a ball $h(t)$ thrown vertically in the air can be described mathematically as:\n",
    "\n",
    "$$\n",
    "h(t) = h_0 + v_0 t - 0.5 \\cdot g \\cdot t^2,\n",
    "$$\n",
    "\n",
    "where $t$ is the time [s], $h_0$ is the initial height [m], $v_0$ is the initial velocity [m/s], and $g$ is the acceleration due to gravity (9.81 $m/s^2$).\n",
    "\n",
    "Let's consider the case where you are standing on top of a 100 m tall building and throw the ball up with a velocity of 25 m/s.\n",
    "\n",
    "### 3.1) Plot h(t)\n",
    "Plot the height (m) of the ball over time (s) (i.e. $h(t)$)."
   ]
  },
  {
   "cell_type": "code",
   "execution_count": 18,
   "metadata": {
    "colab": {},
    "colab_type": "code",
    "id": "VVDND5vZ2mgP"
   },
   "outputs": [
    {
     "data": {
      "image/png": "[encoded data removed]",
      "text/plain": [
       "<Figure size 432x288 with 1 Axes>"
      ]
     },
     "metadata": {
      "needs_background": "light"
     },
     "output_type": "display_data"
    }
   ],
   "source": [
    "# initial height [m]\n",
    "h0 = 100\n",
    "\n",
    "# initial velocity [m/s]\n",
    "v0 = 25\n",
    "\n",
    "# acceleration due to gravity [m/s^2]\n",
    "g = 9.81\n",
    "\n",
    "# create a set of time values to evaluate by using linspace from numpy\n",
    "t = np.linspace(0, 10, 100)\n",
    "\n",
    "# calculate the height\n",
    "h = h0 + v0 * t - 0.5 * g * t ** 2\n",
    "\n",
    "# plot the height over time\n",
    "plt.plot(t, h)\n",
    "\n",
    "# set the y-axis minimum to reflect reality (i.e. the ball height cannot be \"negative\")\n",
    "plt.ylim(ymin=0)\n",
    "\n",
    "# add labels to the plot\n",
    "plt.xlabel('time (s)')\n",
    "plt.ylabel('height (m)')\n",
    "\n",
    "plt.show()"
   ]
  },
  {
   "cell_type": "markdown",
   "metadata": {
    "colab_type": "text",
    "id": "41pcJs8I2mgS"
   },
   "source": [
    "### 3.2) Determine when the ball reaches its peak\n",
    "When does the ball reach its highest point? And what is the height at its highest point?\n",
    "Put the right answer in the questions marks and run the following three code cells to get your answers.\n",
    "\n",
    "**Hint**: you can work out an analytic solution by recalling the relationship between the derivative ($\\frac{dh}{dt}$) and the maximum of a function. In the following cell, <b>use symbolic differentiation</b> to find the point where its derivative is zero.\n",
    "\n",
    "** Answer**: ???"
   ]
  },
  {
   "cell_type": "code",
   "execution_count": 19,
   "metadata": {
    "colab": {},
    "colab_type": "code",
    "id": "hCiYP91v2mgV"
   },
   "outputs": [
    {
     "name": "stdout",
     "output_type": "stream",
     "text": [
      "25 - 9.81*t\n"
     ]
    }
   ],
   "source": [
    "# Let's use Symbolic Differentiation to find the height peak of the ball\n",
    "t = sp.Symbol('t')\n",
    "h = h0 + v0 * t - 0.5 * g * t ** 2\n",
    "\n",
    "# Compute the derivative of the function\n",
    "h_prime = h.diff(t)\n",
    "print(h_prime)"
   ]
  },
  {
   "cell_type": "code",
   "execution_count": 21,
   "metadata": {
    "colab": {},
    "colab_type": "code",
    "id": "KWrtqN7S2mga"
   },
   "outputs": [
    {
     "name": "stdout",
     "output_type": "stream",
     "text": [
      "2.54841997961264 s\n"
     ]
    }
   ],
   "source": [
    "# find t when h_prime is zero\n",
    "t = 25 / 9.81\n",
    "\n",
    "# print the time when the ball reaches the highest point\n",
    "print(t, \"s\")"
   ]
  },
  {
   "cell_type": "code",
   "execution_count": 25,
   "metadata": {
    "colab": {},
    "colab_type": "code",
    "id": "7U0s3bVG2mge"
   },
   "outputs": [
    {
     "name": "stdout",
     "output_type": "stream",
     "text": [
      "The ball reaches the highest point of 131.855249745158 m at 2.54841997961264 s.\n"
     ]
    }
   ],
   "source": [
    "# Find the highest point of the ball\n",
    "h_peak = h.subs(sp.Symbol('t'), t)\n",
    "\n",
    "# print the heighest point of the ball and its time\n",
    "print('The ball reaches the highest point of', h_peak, 'm', 'at', t, 's.')"
   ]
  },
  {
   "cell_type": "markdown",
   "metadata": {
    "colab_type": "text",
    "collapsed": true,
    "id": "cdxJKrvk2mgj"
   },
   "source": [
    "<hr style=\"border: 0.5px solid#C4C4C4;\" />\n",
    "# 4. Fracking fluid\n",
    "A tank of fracking fluid is in the shape of a right circular cone:\n",
    "\n",
    "<img src=\"right-circular-cone.png\">\n",
    "\n",
    "**Knowns:** The radius ($r$) at the top is 4 ft., the height ($h$) is 8 ft., and fracking fluid is pumped into the tank at a rate of 2 ft$^3$ per minute ($dV/dt$).\n",
    "\n",
    "**Hint:** Write down a list of known variables to reference as you work through the rest of this problem."
   ]
  },
  {
   "cell_type": "markdown",
   "metadata": {
    "colab_type": "text",
    "id": "EMQa29s62mgk"
   },
   "source": [
    "### 4.1) What is the volume of a right circular cone?\n",
    "Given the radius ($r$) and hieght ($h$), how do you calculate the volume ($V$) of a right circular cone?\n",
    "\n",
    "**Answer:** 1/3 * pi * r**2 * h\n",
    "\n",
    "(double-click and edit the equation text)"
   ]
  },
  {
   "cell_type": "markdown",
   "metadata": {
    "colab_type": "text",
    "id": "ZKUcDo0k2mgl"
   },
   "source": [
    "### 4.2) Plot volume vs. height\n",
    "Let's plot the volume ($V$) of the cone as a function of the height ($h$)."
   ]
  },
  {
   "cell_type": "code",
   "execution_count": 26,
   "metadata": {
    "colab": {},
    "colab_type": "code",
    "id": "dt7wZqYo2mgm"
   },
   "outputs": [
    {
     "data": {
      "image/png": "[encoded data removed]",
      "text/plain": [
       "<Figure size 432x288 with 1 Axes>"
      ]
     },
     "metadata": {
      "needs_background": "light"
     },
     "output_type": "display_data"
    }
   ],
   "source": [
    "# create a range of height values to try out\n",
    "h = np.linspace(0, 10, 100)\n",
    "\n",
    "# pick a value for the radius [ft]\n",
    "r = 4\n",
    "\n",
    "# calculate the volume as a function of h (with a constant radius)\n",
    "V = 1/3 * np.pi * r**2 * h\n",
    "\n",
    "# plot the height vs volume\n",
    "plt.plot(h, V)\n",
    "\n",
    "# add labels\n",
    "plt.xlabel('Height [ft]')\n",
    "plt.ylabel('Volume [ft$^3$]')\n",
    "\n",
    "plt.show()"
   ]
  },
  {
   "cell_type": "markdown",
   "metadata": {
    "colab_type": "text",
    "id": "NhQURuVJ2mgo"
   },
   "source": [
    "### 4.3) Plot volume vs. radius\n",
    "Now let's compare how the volume ($V$) changes as a function of the radius ($r$)."
   ]
  },
  {
   "cell_type": "code",
   "execution_count": 27,
   "metadata": {
    "colab": {},
    "colab_type": "code",
    "id": "JoRSLOMc2mgo"
   },
   "outputs": [
    {
     "data": {
      "image/png": "[encoded data removed]",
      "text/plain": [
       "<Figure size 432x288 with 1 Axes>"
      ]
     },
     "metadata": {
      "needs_background": "light"
     },
     "output_type": "display_data"
    }
   ],
   "source": [
    "# create a range of radius values to try out\n",
    "r = np.linspace(0, 10, 100)\n",
    "\n",
    "# pick a value for the height [ft]\n",
    "h = 8\n",
    "\n",
    "# calculate the volume as a function of h (with a constant radius)\n",
    "V = 1/3 * np.pi * r**2 * h\n",
    "\n",
    "# plot the radius vs volume\n",
    "plt.plot(r, V)\n",
    "\n",
    "# add labels\n",
    "plt.xlabel('Radius [ft]')\n",
    "plt.ylabel('Volume [ft$^3$]')\n",
    "\n",
    "plt.show()"
   ]
  },
  {
   "cell_type": "markdown",
   "metadata": {
    "colab_type": "text",
    "id": "6sqVbx0g2mgq"
   },
   "source": [
    "## Submission\n",
    "Once you have completed all the code sections and answered the questions, you will submit the lab via TritonEd:\n",
    "1. rename your notebook to include your name (e.g. ``eng10_hw1_firstname_lastname``)\n",
    "2. save your notebook (File >> Save and Checkpoint)\n",
    "3. log into TritonEd (tritoned.ucsd.edu)\n",
    "4. submit your file for HW 1 (e.g. ``eng10_hw1_firstname_lastname.ipynb``)\n",
    "\n",
    "**NOTE**: Each homework is due 1 week after being assigned before class starts and no late submissions will be accepted."
   ]
  }
 ],
 "metadata": {
  "colab": {
   "name": "eng10_Summer_19_hw1_derivatives.ipynb",
   "provenance": [],
   "version": "0.3.2"
  },
  "kernelspec": {
   "display_name": "Python 3",
   "language": "python",
   "name": "python3"
  },
  "language_info": {
   "codemirror_mode": {
    "name": "ipython",
    "version": 3
   },
   "file_extension": ".py",
   "mimetype": "text/x-python",
   "name": "python",
   "nbconvert_exporter": "python",
   "pygments_lexer": "ipython3",
   "version": "3.7.3"
  }
 },
 "nbformat": 4,
 "nbformat_minor": 1
}
