{
 "cells": [
  {
   "cell_type": "markdown",
   "metadata": {},
   "source": [
    "# ENG 10: HW 4 (Linear Systems)\n",
    "This is a short homework that touches on representing (and solving) problems as systems of linear questions."
   ]
  },
  {
   "cell_type": "code",
   "execution_count": 1,
   "metadata": {},
   "outputs": [],
   "source": [
    "# ensure code is compatible with both Python 2.7 and 3.5\n",
    "from __future__ import print_function, division\n",
    "\n",
    "# load required packages\n",
    "import numpy as np\n",
    "import matplotlib.pyplot as plt\n",
    "%matplotlib inline"
   ]
  },
  {
   "cell_type": "markdown",
   "metadata": {
    "collapsed": true
   },
   "source": [
    "## 1) Solving systems of linear equations.\n",
    "Let's try solving a system of linear equations that describes a physical process. In this case, a chemical reaction.\n",
    "\n",
    "### Scenario\n",
    "In this example, we'll consider a set of reversible reactions of four chemical components (1, 2, 3, and 4) inside a batch reactor at constant temperature and pressure:\n",
    "- 1 => 2\n",
    "- 1 => 4\n",
    "- 2 => 3\n",
    "- 2 => 4\n",
    "- 3 => 4\n",
    "\n",
    "At the start, there is only component 1 and therefore the concentration of component 1 in the mixture is 100% (i.e. $c_1 = 1.00$). Over time, component 1 reacts to create components 2 and 4, etc.\n",
    "\n",
    "The reaction continues until the concentrations of the components reach equilibrium. What are the equilibrium concentrations of the components ($c_1$, $c_2$, $c_3$ and $c_4$)?\n",
    "\n",
    "### Knowns\n",
    "The mass concentrations must add to 100% (i.e. $\\sum_{i=1}^4 c_i = c_1 + c_2 + c_3 + c_4 = 1.00$). Also, the reaction rates are known:\n",
    "\n",
    "$\n",
    "\\begin{align}\n",
    "    -0.3 c_1 + 0.02 c_2 + 0.05 c_4 &= 0 \\\\\n",
    "    0.1 c_1  - 0.82 c_2 + 0.1 c_3 + 0.1 c_4 &= 0 \\\\\n",
    "    0.5 c_2  - 0.11 c_3 + 0.1 c_4 &= 0,\n",
    "\\end{align}\n",
    "$\n",
    "\n",
    "### Rewrite as Ax=b\n",
    "We have four equations (concentrations sum to 1.0 and the 3 reaction rates) and four unknowns. Now we can write the equations in $Ax=b$ form:\n",
    "\n",
    "$\n",
    "\\begin{align}\n",
    "    A = \\begin{bmatrix}\n",
    "        1 & 1 & 1 & 1 \\\\\n",
    "        -0.3 & 0.02 & 0.0 & 0.05 \\\\\n",
    "        0.1 & -0.82 & 0.1 & 0.1 \\\\\n",
    "        0.0 & 0.5 & -0.11 & 0.11 \\\\\n",
    "    \\end{bmatrix},\n",
    "    \\hspace{1em}\n",
    "    x = \\begin{pmatrix} c_1 \\\\ c_2 \\\\ c_3 \\\\ c_4 \\end{pmatrix},\n",
    "    \\hspace{1em}\n",
    "    b= \\begin{pmatrix} 1 \\\\ 0 \\\\ 0 \\\\ 0 \\end{pmatrix}\n",
    "\\end{align}\n",
    "$\n",
    "\n",
    "**NOTE**: The row of ones in the first row of the $A$ matrix are from the equation: $c_1 + c_2 + c_3 + c_4 = 1.00 = 100\\%$.\n",
    "\n",
    "\n",
    "### Tasks\n",
    "1. answer the pre-code questions (analyzing the problem setup)\n",
    "2. setup and solve the system of linear equations\n",
    "3. answer the post-code questions (analyzing the results)"
   ]
  },
  {
   "cell_type": "markdown",
   "metadata": {},
   "source": [
    "**Question:** What does the $x$ vector represent?\n",
    "\n",
    "**Answer:** Concentation of different components."
   ]
  },
  {
   "cell_type": "markdown",
   "metadata": {},
   "source": [
    "**Question:** What does the $A$ matrix represent? And what are the meanings of the second, third and fourth rows (i.e. the rows without all 1's).\n",
    "\n",
    "**Answer:** Reaction rate of different components."
   ]
  },
  {
   "cell_type": "markdown",
   "metadata": {},
   "source": [
    "Now that we understand the meaning of the components in the system of linear equations, let's try solving the system for the $x$ vector using Python:"
   ]
  },
  {
   "cell_type": "code",
   "execution_count": 2,
   "metadata": {},
   "outputs": [
    {
     "name": "stdout",
     "output_type": "stream",
     "text": [
      "[0.03724536 0.10869565 0.67406507 0.17999392]\n"
     ]
    }
   ],
   "source": [
    "# define the A matrix (4 rows, 4 columns)\n",
    "A = [\n",
    "    [1, 1, 1, 1],\n",
    "    [-0.3, 0.02, 0.00, 0.05],\n",
    "    [0.1, -0.82, 0.1, 0.1],\n",
    "    [0.00, 0.5, -0.11, 0.11],\n",
    "]\n",
    "\n",
    "# define the b vector (4 elements)\n",
    "b = [1, 0, 0, 0]\n",
    "\n",
    "# solve for x vector\n",
    "x_solved = np.linalg.solve(A,b)\n",
    "print(x_solved)"
   ]
  },
  {
   "cell_type": "markdown",
   "metadata": {
    "collapsed": true
   },
   "source": [
    "**Question:** What are the final mass concentrations of the four components?\n",
    "\n",
    "**Answer:** The final concentrations are:\n",
    "- $c_1$ = 0.03724536\n",
    "- $c_2$ = 0.10869565\n",
    "- $c_3$ = 0.67406507\n",
    "- $c_4$ = 0.17999392"
   ]
  },
  {
   "cell_type": "markdown",
   "metadata": {
    "collapsed": true
   },
   "source": [
    "**Question:** Are the calculated final mass concentrations valid? In other words, do the concentrations (from solving the system of equations) violate the conservation of mass (i.e. does $\\sum_{i} c_i = 1$)?\n",
    "\n",
    "**Answer:** Yes"
   ]
  },
  {
   "cell_type": "markdown",
   "metadata": {
    "collapsed": true
   },
   "source": [
    "**Question:** At the end of the reaction, which component was the most prevalent and which was the least (i.e. which had the highest and lowest mass concentrations)?\n",
    "\n",
    "**Answer:** Most prevalent: $c_3$; Least prevalent: $c_1$"
   ]
  },
  {
   "cell_type": "markdown",
   "metadata": {
    "collapsed": true
   },
   "source": [
    "## 2) Fitting data with Least-Squares\n",
    "As we discussed in class, Least-Squares (LS) is a popular method for solving systems of linear equations. Another way to use LS is to fit a line to a set of data.\n",
    "\n",
    "Consider the case where we have a real-value scalar input ($x  \\in \\textbf{R}$) and real-value scalar output ($y \\in \\textbf{R}$). We wish to fit a line to the data, i.e., find $m$ and $b$ such that\n",
    "\n",
    "$$\n",
    "y \\approx m x + b\n",
    "$$\n",
    "\n",
    "### Scenario\n",
    "We have been provided measured data for a 1 MWp photovoltaic (PV) solar farm in San Diego, CA. Specifically, we have been provided measurements of global horizontal irradiance (GHI [Wm$^{-2}$]) and the corresponding value of power output (PO [kW]) from the PV panels.\n",
    "\n",
    "Using this data, our goal is to learn a linear model that relates the amount of solar energy hitting the site (GHI [Wm$^{-2}$]) to the amount of power generated by the PV panels (PO [kW]).\n",
    "\n",
    "### Knowns\n",
    "The included data file (``ghi_power.csv``) contains measurements of GHI and PO from the solar farm.\n",
    "\n",
    "### Tasks\n",
    "1. load and visualize the provided data\n",
    "2. answer the questions about the data\n",
    "3. fit a line the data\n",
    "4. visualize the fitted line using Least-Squares\n",
    "5. answer the questions about the line fit and Least-Squares"
   ]
  },
  {
   "cell_type": "markdown",
   "metadata": {},
   "source": [
    "## 2.1) Load and plot data"
   ]
  },
  {
   "cell_type": "code",
   "execution_count": 3,
   "metadata": {},
   "outputs": [
    {
     "data": {
      "image/png": "[encoded data removed]",
      "text/plain": [
       "<Figure size 432x288 with 1 Axes>"
      ]
     },
     "metadata": {
      "needs_background": "light"
     },
     "output_type": "display_data"
    }
   ],
   "source": [
    "# load the data file\n",
    "data = np.genfromtxt('ghi_power.csv', delimiter=',')\n",
    "\n",
    "# split up the data into variables\n",
    "ghi = data[:, 0]\n",
    "power = data[:, 1]\n",
    "\n",
    "# plot GHI [W/m^2] vs PO [kW]\n",
    "plt.scatter(ghi, power, c='0.7')\n",
    "\n",
    "# add labels\n",
    "plt.xlabel(r'GHI [W/m$^2$]')\n",
    "plt.ylabel('PO [kW]')\n",
    "\n",
    "plt.show()"
   ]
  },
  {
   "cell_type": "markdown",
   "metadata": {
    "collapsed": true
   },
   "source": [
    "**Question:** Based on the plot, does there appear to be a relationship between GHI and PO? If so, describe the relationship.\n",
    "\n",
    "**Answer:** Yes, a direct relationship between GHI and PO."
   ]
  },
  {
   "cell_type": "markdown",
   "metadata": {
    "collapsed": true
   },
   "source": [
    "## 2.2) Fit the data\n",
    "Use Least-Squares to fit a line to the data, i.e., find $m$ and $b$ such that\n",
    "\n",
    "$$\n",
    "y \\approx m x + b ,\n",
    "$$\n",
    "\n",
    "where $x$ is the GHI [Wm$^{-2}$] and $y$ is the PO [kW]."
   ]
  },
  {
   "cell_type": "code",
   "execution_count": 4,
   "metadata": {},
   "outputs": [
    {
     "name": "stdout",
     "output_type": "stream",
     "text": [
      "0.8135254820687163\n",
      "2.9218751655949924\n"
     ]
    }
   ],
   "source": [
    "# load the data file\n",
    "data = np.genfromtxt('ghi_power.csv', delimiter=',')\n",
    "\n",
    "# split up the data into variables\n",
    "ghi = data[:,0]\n",
    "power = data[:,1]\n",
    "\n",
    "# re-organize the data so we can use Least-Squares:\n",
    "x = np.stack([ghi, np.ones(len(ghi))], axis=1)\n",
    "\n",
    "y = power\n",
    "\n",
    "# use Least-Squares to fit the line:\n",
    "#\n",
    "# y = m x + b\n",
    "#\n",
    "# - m = slope\n",
    "# - b = bias (aka offset)\n",
    "#\n",
    "m, b = np.linalg.lstsq(x, y, rcond=-1)[0]\n",
    "\n",
    "# display the answers\n",
    "print( m )\n",
    "print( b )"
   ]
  },
  {
   "cell_type": "markdown",
   "metadata": {
    "collapsed": true
   },
   "source": [
    "**Question:** What do $m$ and $b$ represent geometrically?\n",
    "\n",
    "**Answer:** m = slope; b = vertical axis intercept."
   ]
  },
  {
   "cell_type": "markdown",
   "metadata": {
    "collapsed": true
   },
   "source": [
    "**Question:** What do the values of $m$ and $b$ mean? For example, what are their units.\n",
    "\n",
    "*Hint:* $y$ is PO [kW] and $x$ GHI [Wm$^{-2}$], so $m$ and $b$ will involve one or both of those units.\n",
    "\n",
    "**Answer:** $b$ has a unit of [kW] (initial value when GHI is 0. $m$ has a unit of [kW]/[Wm$^{-2}$]."
   ]
  },
  {
   "cell_type": "markdown",
   "metadata": {
    "collapsed": true
   },
   "source": [
    "## 2.3) Plot fitted data\n",
    "Use the values for $m$ and $b$ you found in Section 2.2 to visualize the fitted line next to the measured data."
   ]
  },
  {
   "cell_type": "code",
   "execution_count": 8,
   "metadata": {},
   "outputs": [
    {
     "data": {
      "image/png": "[encoded data removed]",
      "text/plain": [
       "<Figure size 432x288 with 1 Axes>"
      ]
     },
     "metadata": {
      "needs_background": "light"
     },
     "output_type": "display_data"
    }
   ],
   "source": [
    "# the fitted values (from the previous code cell)\n",
    "m = 0.8135254820687163\n",
    "b = 2.9218751655949924\n",
    "\n",
    "# calculate the fitted line over a range of inputs\n",
    "x_fit = np.linspace(0, 1000, 100)\n",
    "y_fit = m * x_fit + b\n",
    "\n",
    "# load the measured data (for comparison)\n",
    "data = np.genfromtxt('ghi_power.csv', delimiter=',')\n",
    "ghi = data[:,0]\n",
    "power = data[:,1]\n",
    "\n",
    "# plot the measured data\n",
    "plt.scatter(ghi, power, c='0.7')\n",
    "\n",
    "# plot the fitted data\n",
    "plt.plot(x_fit, y_fit, c='0.0', lw=2, ls='-')\n",
    "\n",
    "# add labels\n",
    "plt.xlabel(r'GHI [W/m$^2$]')\n",
    "plt.ylabel('PO [kW]')\n",
    "\n",
    "plt.show()"
   ]
  },
  {
   "cell_type": "markdown",
   "metadata": {
    "collapsed": true
   },
   "source": [
    "**Question:** Based on the plot, does our fitted line properly captures the relationship between GHI and PO?\n",
    "\n",
    "**Answer:** They are positively related."
   ]
  },
  {
   "cell_type": "markdown",
   "metadata": {},
   "source": [
    "**Question:** How can we quantify the accuracy of the fitted line? For example, how do we define accuracy in this context? It's better if you can provide examples of accuracy (or error) metrics, but you can also describe the desired properties of an accuracy metric (in case you have trouble finding mathematical/formal definitions).\n",
    "\n",
    "*Hint:* Is there a field of mathematics that defines quantitative measures of accuracy?\n",
    "\n",
    "**Answer:** Statistics can help with estimating the error of the fitted line, or simply use the least squares method to determine how close each point is to the fitted line."
   ]
  },
  {
   "cell_type": "markdown",
   "metadata": {},
   "source": [
    "## 3)  Submission\n",
    "Once you have completed all the code sections and answered the questions, you will submit the lab via TritonEd:\n",
    "1. rename your notebook to include your name (e.g. ``eng10_hw4_firstname_lastname``)\n",
    "2. save your notebook (File >> Save and Checkpoint)\n",
    "3. log into TritonEd (tritoned.ucsd.edu)\n",
    "4. submit your file for HW 4 (e.g. ``eng10_hw4_firstname_lastname.ipynb``)\n",
    "\n"
   ]
  },
  {
   "cell_type": "code",
   "execution_count": null,
   "metadata": {},
   "outputs": [],
   "source": []
  },
  {
   "cell_type": "code",
   "execution_count": null,
   "metadata": {},
   "outputs": [],
   "source": []
  },
  {
   "cell_type": "code",
   "execution_count": null,
   "metadata": {},
   "outputs": [],
   "source": []
  },
  {
   "cell_type": "code",
   "execution_count": null,
   "metadata": {},
   "outputs": [],
   "source": []
  },
  {
   "cell_type": "code",
   "execution_count": null,
   "metadata": {},
   "outputs": [],
   "source": []
  },
  {
   "cell_type": "code",
   "execution_count": null,
   "metadata": {},
   "outputs": [],
   "source": []
  }
 ],
 "metadata": {
  "anaconda-cloud": {},
  "kernelspec": {
   "display_name": "Python 3",
   "language": "python",
   "name": "python3"
  },
  "language_info": {
   "codemirror_mode": {
    "name": "ipython",
    "version": 3
   },
   "file_extension": ".py",
   "mimetype": "text/x-python",
   "name": "python",
   "nbconvert_exporter": "python",
   "pygments_lexer": "ipython3",
   "version": "3.7.3"
  }
 },
 "nbformat": 4,
 "nbformat_minor": 1
}
