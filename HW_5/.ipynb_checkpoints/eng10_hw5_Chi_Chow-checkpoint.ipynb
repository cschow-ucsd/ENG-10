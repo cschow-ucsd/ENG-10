{
 "cells": [
  {
   "cell_type": "markdown",
   "metadata": {},
   "source": [
    "# ENG 10: HW 5 (Probability and Statistics)\n",
    "This homework will focus on applying concepts from Probability and Statistics to engineering."
   ]
  },
  {
   "cell_type": "code",
   "execution_count": 2,
   "metadata": {},
   "outputs": [],
   "source": [
    "# ensure code is compatible with both Python 2.7 and 3.5\n",
    "from __future__ import print_function, division\n",
    "\n",
    "# load required packages\n",
    "import numpy as np\n",
    "import matplotlib.pyplot as plt\n",
    "%matplotlib inline"
   ]
  },
  {
   "cell_type": "markdown",
   "metadata": {},
   "source": [
    "## 1) Random numbers\n",
    "We'll start by exploring random numbers using the example of tossing a 6-sided dice."
   ]
  },
  {
   "cell_type": "markdown",
   "metadata": {
    "collapsed": true
   },
   "source": [
    "## 1.1) Throwing a 6-side dice\n",
    "Let's simulate throwing a 6-sided dice."
   ]
  },
  {
   "cell_type": "code",
   "execution_count": 5,
   "metadata": {},
   "outputs": [
    {
     "name": "stdout",
     "output_type": "stream",
     "text": [
      "1\n"
     ]
    }
   ],
   "source": [
    "# randomly select a number from the set {1, 2, ..., 6}\n",
    "dice_toss = np.random.choice(range(1, 6 + 1))\n",
    "\n",
    "# show what number came up\n",
    "print(dice_toss)"
   ]
  },
  {
   "cell_type": "markdown",
   "metadata": {},
   "source": [
    "**Task:** Run the above cell block several times."
   ]
  },
  {
   "cell_type": "markdown",
   "metadata": {},
   "source": [
    "**Question:** What can you observe from running the code a few times? Does every number get selected? Do some numbers repeat? In other words, is the result actually random?\n",
    "\n",
    "**Answer:** A different number comes out each time.Every number gets selected. Some numbers repeat. The result is random."
   ]
  },
  {
   "cell_type": "markdown",
   "metadata": {},
   "source": [
    "## 1.2) Simulate many throws of a 6-sided dice\n",
    "To check whether the results are random, we'll try throwing the 6-sided dice many times (100, 1000, and 10000 times) and plot the results.\n",
    "\n",
    "**NOTE:** The reason we use ``randint(1, 6+1)`` instead of ``randint(1, 6)`` is because the function is defined on an closed-open interval. Mathematically, ``randint(a, b)`` will give a random number on the set $x = [a, b)$. In other words, it will give a number in the range from $a$ (including $a$) to $b$ (but not including $b$). So if we give ``randint(1, 6)`` we will get numbers from 1 to 6 (but not including 6). To deal with this code detail, we can use ``randint(1, 6+1)`` (or ``randint(1, 7)``) to give the numbers from 1 to 7, but not including 7 (i.e. 1 to 6, including 6)."
   ]
  },
  {
   "cell_type": "code",
   "execution_count": 6,
   "metadata": {},
   "outputs": [
    {
     "data": {
      "image/png": "[encoded data removed]",
      "text/plain": [
       "<Figure size 432x288 with 1 Axes>"
      ]
     },
     "metadata": {
      "needs_background": "light"
     },
     "output_type": "display_data"
    }
   ],
   "source": [
    "# throw a 6-sided dice 100 (10^2) times\n",
    "dice_throws = np.random.randint(1, 6 + 1, size=100)\n",
    "\n",
    "# plot a histogram of the dice tosses\n",
    "plt.hist(dice_throws, bins=6, facecolor='#268bd2', edgecolor='black', linewidth=1.0)\n",
    "\n",
    "# add labels\n",
    "plt.xlabel('Value')\n",
    "plt.ylabel('Count')\n",
    "plt.title('100 tosses')\n",
    "\n",
    "plt.show()"
   ]
  },
  {
   "cell_type": "code",
   "execution_count": 9,
   "metadata": {},
   "outputs": [
    {
     "data": {
      "image/png": "[encoded data removed]",
      "text/plain": [
       "<Figure size 432x288 with 1 Axes>"
      ]
     },
     "metadata": {
      "needs_background": "light"
     },
     "output_type": "display_data"
    }
   ],
   "source": [
    "# throw a 6-sided dice 1000 (10^3) times\n",
    "dice_throws = np.random.randint(1, 6 + 1, size=1000)\n",
    "\n",
    "# plot a histogram of the dice tosses\n",
    "plt.hist(dice_throws, bins=6, facecolor='#ff0000', edgecolor='black', linewidth=1.0)\n",
    "\n",
    "# add labels\n",
    "plt.xlabel('Value')\n",
    "plt.ylabel('Count')\n",
    "plt.title('1000 tosses')\n",
    "\n",
    "plt.show()"
   ]
  },
  {
   "cell_type": "code",
   "execution_count": 11,
   "metadata": {},
   "outputs": [
    {
     "data": {
      "image/png": "[encoded data removed]",
      "text/plain": [
       "<Figure size 432x288 with 1 Axes>"
      ]
     },
     "metadata": {
      "needs_background": "light"
     },
     "output_type": "display_data"
    }
   ],
   "source": [
    "# throw a 6-sided dice 10000 (10^4) times\n",
    "dice_throws = np.random.randint(1, 6 + 1, size=10000)\n",
    "\n",
    "# plot a histogram of the dice tosses\n",
    "plt.hist(dice_throws, bins=6, facecolor='#00ff00', edgecolor='black', linewidth=1.0)\n",
    "\n",
    "# add labels\n",
    "plt.xlabel('Value')\n",
    "plt.ylabel('Count')\n",
    "plt.title('10000 tosses')\n",
    "\n",
    "plt.show()"
   ]
  },
  {
   "cell_type": "markdown",
   "metadata": {
    "collapsed": true
   },
   "source": [
    "**Question:** Based on the three plots (100, 1k, and 10k tosses), what can you say about tossing 6-sided dice? For example, are the results random?\n",
    "\n",
    "**Answer:** The reults are not random, but are really close to random."
   ]
  },
  {
   "cell_type": "markdown",
   "metadata": {},
   "source": [
    "**Question:** What effect(s) does increasing the number of samples have on the results? For example, do the counts for each value come to an equilibrium as you go from 100 to 1k to 10k samples?\n",
    "\n",
    "**Answer:** the counts go closer and closer to one another."
   ]
  },
  {
   "cell_type": "markdown",
   "metadata": {},
   "source": [
    "**Question:** What type of distribution describes the dice throw results? *Hint:* look up common probability distributions (e.g. Gaussian, uniform, beta) and see which ones match the observed behavior.\n",
    "\n",
    "**Answer:** Uniform distribution."
   ]
  },
  {
   "cell_type": "markdown",
   "metadata": {},
   "source": [
    "## 1.3) Throwing two dice\n",
    "Now let's simulate throwing two 6-sided dice multiple times. We'll explore the meaning of mean, median, mode, variance and standard deviation by looking at the total value of the two 6-sided dice over the sample set."
   ]
  },
  {
   "cell_type": "code",
   "execution_count": 19,
   "metadata": {},
   "outputs": [
    {
     "data": {
      "image/png": "[encoded data removed]",
      "text/plain": [
       "<Figure size 432x288 with 2 Axes>"
      ]
     },
     "metadata": {
      "needs_background": "light"
     },
     "output_type": "display_data"
    }
   ],
   "source": [
    "# number of throws\n",
    "n_throws = 10000\n",
    "\n",
    "# throw the two dice many times \n",
    "dice_one = np.random.randint(1, 6 + 1, size=n_throws)\n",
    "dice_two = np.random.randint(1, 6 + 1, size=n_throws)\n",
    "\n",
    "# plot the two dice values as two-separate histograms\n",
    "# (with the two subplots having the same x and y axis range)\n",
    "fig, [ax_left, ax_right] = plt.subplots(1, 2, sharex=True, sharey=True)\n",
    "\n",
    "# left subplot: dice throw #1\n",
    "ax_left.hist(dice_one, bins=6, facecolor='#cb4b16', edgecolor='black', linewidth=1.0)\n",
    "\n",
    "# right subplot: dice throw #2\n",
    "ax_right.hist(dice_two, bins=6, facecolor='red')\n",
    "\n",
    "# add labels\n",
    "ax_left.set_title('Dice #1')\n",
    "ax_right.set_title('Dice #2')\n",
    "\n",
    "plt.show()"
   ]
  },
  {
   "cell_type": "markdown",
   "metadata": {},
   "source": [
    "**Question:** Do the two dice behave in a similar manner? In other words, do both dice have similar counts for each dice face value?\n",
    "\n",
    "**Answer:** Yes, they have similar counts."
   ]
  },
  {
   "cell_type": "markdown",
   "metadata": {},
   "source": [
    "Now let's look at the sum of the two dice throws."
   ]
  },
  {
   "cell_type": "code",
   "execution_count": 20,
   "metadata": {},
   "outputs": [
    {
     "data": {
      "image/png": "[encoded data removed]",
      "text/plain": [
       "<Figure size 432x288 with 1 Axes>"
      ]
     },
     "metadata": {
      "needs_background": "light"
     },
     "output_type": "display_data"
    }
   ],
   "source": [
    "# number of throws\n",
    "n_throws = 10000\n",
    "\n",
    "# throw the two dice many times and store the sum of the two dice\n",
    "dice_one = np.random.randint(1, 6 + 1, size=n_throws)\n",
    "dice_two = np.random.randint(1, 6 + 1, size=n_throws)\n",
    "\n",
    "# add the two dice values\n",
    "two_dice = dice_one + dice_two\n",
    "\n",
    "# plot the histogram\n",
    "plt.hist(two_dice, bins=11, edgecolor='black', linewidth=1.0)\n",
    "\n",
    "# set the x-axis range\n",
    "plt.xlim([0, 14])\n",
    "\n",
    "# add labels\n",
    "plt.xlabel('Value')\n",
    "plt.ylabel('Count')\n",
    "plt.title('20000 tosses')\n",
    "\n",
    "plt.show()"
   ]
  },
  {
   "cell_type": "markdown",
   "metadata": {},
   "source": [
    "**Task:** Now calculate the statistics on the experiment:\n",
    "- Mean: 7\n",
    "- Median: 7\n",
    "- Variance: 5.77\n",
    "- Standard deviation: 2.40"
   ]
  },
  {
   "cell_type": "code",
   "execution_count": 21,
   "metadata": {},
   "outputs": [
    {
     "name": "stdout",
     "output_type": "stream",
     "text": [
      "Mean: 7.0271\n",
      "Median: 7.0\n",
      "Variance: 5.735965590000001\n",
      "Standard deviation: 2.394987597045129\n"
     ]
    }
   ],
   "source": [
    "# calculate the statistics of the experiment\n",
    "\n",
    "print('Mean:', np.mean(two_dice))\n",
    "\n",
    "print('Median:', np.median(two_dice))\n",
    "\n",
    "print('Variance:', np.var(two_dice))\n",
    "\n",
    "print('Standard deviation:', np.std(two_dice))"
   ]
  },
  {
   "cell_type": "markdown",
   "metadata": {},
   "source": [
    "**Question:** What do the statistics tell you about the experiment? For example, which statistical metric tells you what the most common dice value is?\n",
    "\n",
    "**Answer:** Most common value is 7. Some percentage of data is contained within 2.40 (stdev) of the median. Mean is the same as the median because the distribution is very normal."
   ]
  },
  {
   "cell_type": "markdown",
   "metadata": {},
   "source": [
    "**Question:** What type of distribution describes the two dice results? *Hint:* look up common probability distributions (e.g. Gaussian, uniform, beta) and see which ones match the observed behavior.\n",
    "\n",
    "**Answer:** Normal distribution."
   ]
  },
  {
   "cell_type": "markdown",
   "metadata": {},
   "source": [
    "## 1.4) Throwing four dice\n",
    "In this problem, simulate throwing four 6-sided dice multiple times in the code cell below. "
   ]
  },
  {
   "cell_type": "code",
   "execution_count": 25,
   "metadata": {},
   "outputs": [
    {
     "data": {
      "image/png": "[encoded data removed]",
      "text/plain": [
       "<Figure size 432x288 with 1 Axes>"
      ]
     },
     "metadata": {
      "needs_background": "light"
     },
     "output_type": "display_data"
    }
   ],
   "source": [
    "# number of throws\n",
    "n_throws = 10000\n",
    "\n",
    "# throw the four dice many times and store the sum of the four dice\n",
    "dice_one = np.random.randint(1, 6 + 1, size=n_throws)\n",
    "dice_two = np.random.randint(1, 6 + 1, size=n_throws)\n",
    "dice_three = np.random.randint(1, 6 + 1, size=n_throws)\n",
    "dice_four = np.random.randint(1, 6 + 1, size=n_throws)\n",
    "\n",
    "# add the four dice values\n",
    "four_dice = dice_one + dice_two + dice_three + dice_four\n",
    "\n",
    "# plot the histogram\n",
    "plt.hist(four_dice, bins=24, facecolor='#268bd2', edgecolor='black', linewidth=1.0, )\n",
    "\n",
    "# set the x-axis range\n",
    "plt.xlim([0, 24])\n",
    "\n",
    "# add labels\n",
    "plt.xlabel('Value')\n",
    "plt.ylabel('Count')\n",
    "plt.title('Throwing four dice 10k times')\n",
    "\n",
    "plt.show()"
   ]
  },
  {
   "cell_type": "markdown",
   "metadata": {
    "collapsed": true
   },
   "source": [
    "## 2) Admission Rates\n",
    "Let's look at the admission rates for UC San Diego broken down by gender (male or female). For a particular year, the admission rates are as follows:\n",
    "\n",
    "\n",
    "Students | Admitted | Not Admitted | Total Applicants\n",
    "-------  | -------- | ------------ | ------\n",
    "Male     | 15,424   | 27,728       | 43,152\n",
    "Female   | 11,085   | 23,819       | 34,904\n",
    "Total    | 26,509   | 51,547       | 78,056\n",
    "\n",
    "From these data, we see that there are less female applicants ($\\approx$35k) than male ($\\approx$43k). But are the admission rates independent of gender? In other words, do male and female applicants have the same probability of being admitted to UCSD?\n",
    "\n",
    "To \"answer\" this question, we will use probability. Specifically, we will check whether two events are independent: \"a candidate is male\" (A) and \"a candidate is admitted\" (B). Formally, does\n",
    "\n",
    "$$\n",
    "P(A~\\textrm{and}~B) = P(A)P(B)~?\n",
    "$$\n",
    "\n",
    "\n",
    "If these two values are equal, then $A$ and $B$ are independent. But if they are not equal, then $A$ and $B$ are not independent.\n",
    "\n",
    "**Task:**\n",
    "- Calculate: $P(A~\\textrm{and}~B)$\n",
    "- Calculate: $P(A) P(B)$\n",
    "- Compare the two values and discuss the meaning of the results"
   ]
  },
  {
   "cell_type": "code",
   "execution_count": 30,
   "metadata": {},
   "outputs": [
    {
     "name": "stdout",
     "output_type": "stream",
     "text": [
      "0.19760172184072974\n",
      "0.18775075421184093\n"
     ]
    }
   ],
   "source": [
    "# calculate the probability of being a male candidate\n",
    "p_A = 43152 / 78056\n",
    "\n",
    "# calculate the probability of being admitted to UCSD (overall)\n",
    "p_B = 26509/ 78056\n",
    "\n",
    "# calculate the probability of being a male and admitted to UCSD\n",
    "p_A_and_B = 15424 / 78056\n",
    "\n",
    "# compare P(A and B) vs P(A)P(B)\n",
    "print(p_A_and_B)\n",
    "print(p_A * p_B)"
   ]
  },
  {
   "cell_type": "markdown",
   "metadata": {},
   "source": [
    "**Question:** What do the results mean?\n",
    "\n",
    "**Answer:** p_A_and_B and p_A * p_B are slightly different, and they are close by not exactly equal to each other."
   ]
  },
  {
   "cell_type": "markdown",
   "metadata": {},
   "source": [
    "**Question:** Are there any limitations in our method? In other words, are there any factors we haven't considered (or assumptions we made) in our analysis that may be important or could explain the results?\n",
    "\n",
    "**Answer:** p_A_and_B is simply an division over the total number of applicants, while p_A * p_B multiplies the probabilities together, causing the difference."
   ]
  },
  {
   "cell_type": "markdown",
   "metadata": {},
   "source": [
    "## 3) Pokemon\n",
    "Let's investigate the likelihood of catching Pokemon in specific regions for Pokemon Go.\n",
    "\n",
    "The following table was compiled by a user of Pokemon Go that gives data on how many Pokemons of each type (normal, bug, poison, water, etc.) appear in different region types (grass, university, park, etc.).\n",
    "\n",
    "<img src=\"https://i.imgur.com/vwormFI.jpg\">\n"
   ]
  },
  {
   "cell_type": "markdown",
   "metadata": {},
   "source": [
    "**Question:** If you wanted to catch a Squirtle (a water-type Pokemon), what are the top 3 places to search?\n",
    "\n",
    "**Answer:**\n",
    "- 1) Wetland (61%)\n",
    "- 2) Riverbank (76%)\n",
    "- 3) Saltwater Beach (50%)"
   ]
  },
  {
   "cell_type": "markdown",
   "metadata": {},
   "source": [
    "**Question:** If your goal was to catch enough Magikarp (a water-type) to evolve into a Gyarados in the shortest amount of time, what locations near UC San Diego should you spend the majority of your time?\n",
    "\n",
    "**Answer:** The beach near Revelle."
   ]
  },
  {
   "cell_type": "markdown",
   "metadata": {},
   "source": [
    "**Question:** Of all Pokemons observed, what percentage are neither Normal nor Bug types? *Hint*: look at the first column (\"TOTAL MONS\").\n",
    "\n",
    "**Answer:** 53%"
   ]
  },
  {
   "cell_type": "markdown",
   "metadata": {},
   "source": [
    "**Question:** There are many Pokemon types that list as 0% occurrence in specific regions (e.g. grass-type in farmland). Does that mean those types will never appear in those regions? In other words, what are potential causes of low (or 0%) rates of sightings?\n",
    "\n",
    "**Answer:** There is not enough data to show that there are possible Pokemons in those areas."
   ]
  },
  {
   "cell_type": "markdown",
   "metadata": {},
   "source": [
    "### 4)  Submission\n",
    "Once you have completed all the code sections and answered the questions, you will submit the homework via TritonEd:\n",
    "1. Rename your notebook to include your name (e.g. ``eng10_hw5_firstname_lastname``)\n",
    "2. Save your notebook (File >> Save and Checkpoint)\n",
    "3. Log into TritonEd (tritoned.ucsd.edu)\n",
    "4. Submit your file for HW 5 (e.g. ``eng10_hw5_firstname_lastname.ipynb``)\n",
    "\n",
    "**NOTE**: Homework is due 1 week after being assigned (before 3:00 pm) and no late submissions will be accepted."
   ]
  },
  {
   "cell_type": "code",
   "execution_count": null,
   "metadata": {
    "collapsed": true
   },
   "outputs": [],
   "source": []
  }
 ],
 "metadata": {
  "anaconda-cloud": {},
  "kernelspec": {
   "display_name": "Python 3",
   "language": "python",
   "name": "python3"
  },
  "language_info": {
   "codemirror_mode": {
    "name": "ipython",
    "version": 3
   },
   "file_extension": ".py",
   "mimetype": "text/x-python",
   "name": "python",
   "nbconvert_exporter": "python",
   "pygments_lexer": "ipython3",
   "version": "3.7.3"
  }
 },
 "nbformat": 4,
 "nbformat_minor": 1
}
